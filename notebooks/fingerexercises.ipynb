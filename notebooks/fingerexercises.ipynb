{
 "cells": [
  {
   "cell_type": "markdown",
   "metadata": {},
   "source": [
    "# 3.1.3"
   ]
  },
  {
   "cell_type": "code",
   "execution_count": 3,
   "metadata": {},
   "outputs": [
    {
     "name": "stdout",
     "output_type": "stream",
     "text": [
      "[1, 2, 3, 4, 5, 6]\n",
      "False\n"
     ]
    }
   ],
   "source": [
    "u = [1,2,3]\n",
    "v = [4,5,6]\n",
    "w = [u[0]+v[0],u[1]+v[1],u[2]+v[2]]\n",
    "print(u+v)\n",
    "print(u+v == w)"
   ]
  },
  {
   "cell_type": "code",
   "execution_count": 5,
   "metadata": {},
   "outputs": [
    {
     "name": "stdout",
     "output_type": "stream",
     "text": [
      "[1, 2, 3, 1, 2, 3]\n",
      "False\n"
     ]
    }
   ],
   "source": [
    "u = [1,2,3]\n",
    "v = [2*u[0],2*u[1],2*u[2]]\n",
    "print(2*u)\n",
    "print(v == 2*u)"
   ]
  },
  {
   "cell_type": "code",
   "execution_count": 6,
   "metadata": {},
   "outputs": [
    {
     "ename": "TypeError",
     "evalue": "list indices must be integers or slices, not tuple",
     "output_type": "error",
     "traceback": [
      "\u001b[0;31m---------------------------------------------------------------------------\u001b[0m",
      "\u001b[0;31mTypeError\u001b[0m                                 Traceback (most recent call last)",
      "Cell \u001b[0;32mIn[6], line 2\u001b[0m\n\u001b[1;32m      1\u001b[0m A \u001b[39m=\u001b[39m [[\u001b[39m1\u001b[39m,\u001b[39m2\u001b[39m,\u001b[39m3\u001b[39m],[\u001b[39m4\u001b[39m,\u001b[39m5\u001b[39m,\u001b[39m6\u001b[39m]]\n\u001b[0;32m----> 2\u001b[0m A[\u001b[39m1\u001b[39;49m,\u001b[39m1\u001b[39;49m]\n",
      "\u001b[0;31mTypeError\u001b[0m: list indices must be integers or slices, not tuple"
     ]
    }
   ],
   "source": [
    "A = [[1,2,3],[4,5,6]]\n",
    "A[1,1]"
   ]
  },
  {
   "cell_type": "code",
   "execution_count": 7,
   "metadata": {},
   "outputs": [
    {
     "data": {
      "text/plain": [
       "[1, 2, 3]"
      ]
     },
     "execution_count": 7,
     "metadata": {},
     "output_type": "execute_result"
    }
   ],
   "source": [
    "A[0][:]"
   ]
  },
  {
   "cell_type": "code",
   "execution_count": 8,
   "metadata": {},
   "outputs": [
    {
     "data": {
      "text/plain": [
       "[1, 2, 3]"
      ]
     },
     "execution_count": 8,
     "metadata": {},
     "output_type": "execute_result"
    }
   ],
   "source": [
    "A[:][0]"
   ]
  },
  {
   "cell_type": "code",
   "execution_count": 9,
   "metadata": {},
   "outputs": [
    {
     "ename": "TypeError",
     "evalue": "list indices must be integers or slices, not tuple",
     "output_type": "error",
     "traceback": [
      "\u001b[0;31m---------------------------------------------------------------------------\u001b[0m",
      "\u001b[0;31mTypeError\u001b[0m                                 Traceback (most recent call last)",
      "Cell \u001b[0;32mIn[9], line 1\u001b[0m\n\u001b[0;32m----> 1\u001b[0m A[\u001b[39m0\u001b[39;49m,:]\n",
      "\u001b[0;31mTypeError\u001b[0m: list indices must be integers or slices, not tuple"
     ]
    }
   ],
   "source": [
    "A[0,:]"
   ]
  },
  {
   "cell_type": "code",
   "execution_count": 10,
   "metadata": {},
   "outputs": [
    {
     "ename": "TypeError",
     "evalue": "list indices must be integers or slices, not tuple",
     "output_type": "error",
     "traceback": [
      "\u001b[0;31m---------------------------------------------------------------------------\u001b[0m",
      "\u001b[0;31mTypeError\u001b[0m                                 Traceback (most recent call last)",
      "Cell \u001b[0;32mIn[10], line 1\u001b[0m\n\u001b[0;32m----> 1\u001b[0m A[:,\u001b[39m0\u001b[39;49m]\n",
      "\u001b[0;31mTypeError\u001b[0m: list indices must be integers or slices, not tuple"
     ]
    }
   ],
   "source": [
    "A[:,0]"
   ]
  },
  {
   "cell_type": "code",
   "execution_count": 14,
   "metadata": {},
   "outputs": [
    {
     "name": "stdout",
     "output_type": "stream",
     "text": [
      "[-95, -6]\n"
     ]
    }
   ],
   "source": [
    "def evalf(u, t):\n",
    "    \"\"\"\n",
    "    args:\n",
    "        u (float list): current state with u[0] = v and u[1] = w\n",
    "        t (float): current time\n",
    "\n",
    "    returns:\n",
    "        float list for forcing f, where du/dt = f(u, t)\n",
    "    \"\"\"\n",
    "    # unpack state list\n",
    "    v = u[0]\n",
    "    w = u[1]\n",
    "\n",
    "    #### BEGIN SOLUTION ####\n",
    "    f = []\n",
    "    f.append(-100*v+w+t)\n",
    "    f.append(-v+2*w-t*t)\n",
    "    return f\n",
    "    #### END SOLUTION ####\n",
    "\n",
    "u = [1,2]\n",
    "print(evalf(u,3))"
   ]
  },
  {
   "cell_type": "markdown",
   "metadata": {},
   "source": [
    "# 3.1.5"
   ]
  },
  {
   "cell_type": "code",
   "execution_count": 2,
   "metadata": {},
   "outputs": [
    {
     "name": "stdout",
     "output_type": "stream",
     "text": [
      "On a hot day:        dTc/dt = -0.002040816326530612\n",
      "On a cool day:       dTc/dt = -0.0047619047619047615\n",
      "On a hot day again:  dTc/dt = -0.0047619047619047615\n"
     ]
    }
   ],
   "source": [
    "\"\"\"\n",
    "This Python library is useful in solving Initial Value Problems (IVP).\n",
    "\n",
    "It implements an IVP base class which defines an IVP in the form:\n",
    "\n",
    "    du/dt = f(u,t,p)   for u(tI) = uI\n",
    "\n",
    "In which the problem would be solved from t=tI to tF and p are a set of\n",
    "parameters\n",
    "\"\"\"\n",
    "\n",
    "import copy\n",
    "\n",
    "class IVP():\n",
    "    def __init__(self, uI, tI, tF, p, f):\n",
    "        \"\"\"\n",
    "        Args:\n",
    "            uI (float list): initial condition of state.\n",
    "            tI (float): initial time.\n",
    "            tF (float): final time.\n",
    "            p (dictionary): set of fixed parameters.\n",
    "            f (function): takes as input u,t,p and returns du/dt\n",
    "        \"\"\"\n",
    "\n",
    "        self._uI = uI[:]\n",
    "        self._tI = tI\n",
    "        self._tF = tF\n",
    "        self._p = p\n",
    "        #self._p  = copy.deepcopy(p)\n",
    "        self._f  = f\n",
    "        self._M  = len(uI)\n",
    "\n",
    "    def evalf(self, u, t):\n",
    "        \"\"\"\n",
    "        Args:\n",
    "            u (float list): current solution.\n",
    "            t (float): current time.\n",
    "\n",
    "        Returns:\n",
    "            float list: f(u,t,p).\n",
    "        \"\"\"\n",
    "\n",
    "        return self._f(u, t, self._p)\n",
    "\n",
    "def coffee_evalf(Tc, t, p):\n",
    "    mc = p['mc']\n",
    "    cc = p['cc']\n",
    "    h = p['h']\n",
    "    A = p['A']\n",
    "    Tout = p['Tout']\n",
    "\n",
    "    f = h*A/(mc*cc)*(Tout - Tc[0])\n",
    "\n",
    "    return [f]\n",
    "\n",
    "p = {}\n",
    "p['mc'] = 0.35 # kg\n",
    "p['cc'] = 4200.0 # J/(kg C)\n",
    "p['h'] = 5.0 # W/(m^2 C)\n",
    "p['A'] = 0.04 # m^2\n",
    "p['Tout'] = 25.0 # C\n",
    "\n",
    "TcI = 85.0 # Initial temperature of coffee (C)\n",
    "tImin = 0.0 # initial time to start simulation (min)\n",
    "tFmin = 700.0 # final time to simulate to (min)\n",
    "tI = tImin*60 # convert time to seconds\n",
    "tF = tFmin*60\n",
    "\n",
    "# Create an IVP object for coffee on a hot day\n",
    "coffeeIVP_hotday = IVP([TcI], tI, tF, p, coffee_evalf)\n",
    "\n",
    "# Calculate dTc/dt on a hot day with Tc=40.0 C\n",
    "Tc = 40.0\n",
    "dTcdt_hotday = coffeeIVP_hotday.evalf([Tc],0.)\n",
    "print(f\"On a hot day:        dTc/dt = {dTcdt_hotday[0]}\")\n",
    "\n",
    "# Create an IVP object for coffee on a cool day\n",
    "p['Tout'] = 5.0 # C\n",
    "\n",
    "coffeeIVP_coolday = IVP([TcI], tI, tF, p, coffee_evalf)\n",
    "\n",
    "# Calculate dTc/dt on a cool day with Tc=40.0 C\n",
    "dTcdt_coolday = coffeeIVP_coolday.evalf([Tc],0.)\n",
    "print(f\"On a cool day:       dTc/dt = {dTcdt_coolday[0]}\")\n",
    "\n",
    "# Calculate dTc/dt on a hot day with Tc=40.0 C one more time\n",
    "dTcdt_hotday_again = coffeeIVP_hotday.evalf([Tc],0.)\n",
    "print(f\"On a hot day again:  dTc/dt = {dTcdt_hotday_again[0]}\")"
   ]
  },
  {
   "cell_type": "code",
   "execution_count": null,
   "metadata": {},
   "outputs": [
    {
     "name": "stdout",
     "output_type": "stream",
     "text": [
      "On a hot day:        dTc/dt = -0.002040816326530612\n",
      "On a cool day:       dTc/dt = -0.0047619047619047615\n",
      "On a hot day again:  dTc/dt = -0.0047619047619047615\n"
     ]
    }
   ],
   "source": [
    "\"\"\"\n",
    "This Python library is useful in solving Initial Value Problems (IVP).\n",
    "\n",
    "It implements an IVP base class which defines an IVP in the form:\n",
    "\n",
    "    du/dt = f(u,t,p)   for u(tI) = uI\n",
    "\n",
    "In which the problem would be solved from t=tI to tF and p are a set of\n",
    "parameters\n",
    "\n",
    "In this newer version, getter functions are implemented within\n",
    "the class object to hide problem parameters.\n",
    "\"\"\"\n",
    "\n",
    "import copy\n",
    "\n",
    "class IVP():\n",
    "    def __init__(self, uI, tI, tF, p, f):\n",
    "        \"\"\"\n",
    "        Args:\n",
    "            uI (float list): initial condition of state.\n",
    "            tI (float): initial time.\n",
    "            tF (float): final time.\n",
    "            p (dictionary): set of fixed parameters.\n",
    "            f (function): takes as input u,t,p and returns du/dt\n",
    "        \"\"\"\n",
    "\n",
    "        self._uI = uI[:]\n",
    "        self._tI = tI\n",
    "        self._tF = tF\n",
    "        self._p = p\n",
    "        #self._p  = copy.deepcopy(p)\n",
    "        self._f  = f\n",
    "        self._M  = len(uI)\n",
    "\n",
    "    def evalf(self, u, t):\n",
    "        \"\"\"\n",
    "        Args:\n",
    "            u (float list): current solution.\n",
    "            t (float): current time.\n",
    "\n",
    "        Returns:\n",
    "            float list: f(u,t,p).\n",
    "        \"\"\"\n",
    "\n",
    "        return self._f(u, t, self._p)\n",
    "\n",
    "def coffee_evalf(Tc, t, p):\n",
    "    mc = p['mc']\n",
    "    cc = p['cc']\n",
    "    h = p['h']\n",
    "    A = p['A']\n",
    "    Tout = p['Tout']\n",
    "\n",
    "    f = h*A/(mc*cc)*(Tout - Tc[0])\n",
    "\n",
    "    return [f]\n",
    "\n",
    "p = {}\n",
    "p['mc'] = 0.35 # kg\n",
    "p['cc'] = 4200.0 # J/(kg C)\n",
    "p['h'] = 5.0 # W/(m^2 C)\n",
    "p['A'] = 0.04 # m^2\n",
    "p['Tout'] = 25.0 # C\n",
    "\n",
    "TcI = 85.0 # Initial temperature of coffee (C)\n",
    "tImin = 0.0 # initial time to start simulation (min)\n",
    "tFmin = 700.0 # final time to simulate to (min)\n",
    "tI = tImin*60 # convert time to seconds\n",
    "tF = tFmin*60\n",
    "\n",
    "# Create an IVP object for coffee on a hot day\n",
    "coffeeIVP_hotday = IVP([TcI], tI, tF, p, coffee_evalf)\n",
    "\n",
    "# Calculate dTc/dt on a hot day with Tc=40.0 C\n",
    "Tc = 40.0\n",
    "dTcdt_hotday = coffeeIVP_hotday.evalf([Tc],0.)\n",
    "print(f\"On a hot day:        dTc/dt = {dTcdt_hotday[0]}\")\n",
    "\n",
    "# Create an IVP object for coffee on a cool day\n",
    "p['Tout'] = 5.0 # C\n",
    "\n",
    "coffeeIVP_coolday = IVP([TcI], tI, tF, p, coffee_evalf)\n",
    "\n",
    "# Calculate dTc/dt on a cool day with Tc=40.0 C\n",
    "dTcdt_coolday = coffeeIVP_coolday.evalf([Tc],0.)\n",
    "print(f\"On a cool day:       dTc/dt = {dTcdt_coolday[0]}\")\n",
    "\n",
    "# Calculate dTc/dt on a hot day with Tc=40.0 C one more time\n",
    "dTcdt_hotday_again = coffeeIVP_hotday.evalf([Tc],0.)\n",
    "print(f\"On a hot day again:  dTc/dt = {dTcdt_hotday_again[0]}\")"
   ]
  },
  {
   "cell_type": "code",
   "execution_count": null,
   "metadata": {},
   "outputs": [],
   "source": []
  }
 ],
 "metadata": {
  "kernelspec": {
   "display_name": "Python 3 (ipykernel)",
   "language": "python",
   "name": "python3"
  },
  "language_info": {
   "codemirror_mode": {
    "name": "ipython",
    "version": 3
   },
   "file_extension": ".py",
   "mimetype": "text/x-python",
   "name": "python",
   "nbconvert_exporter": "python",
   "pygments_lexer": "ipython3",
   "version": "3.10.8"
  },
  "orig_nbformat": 4
 },
 "nbformat": 4,
 "nbformat_minor": 2
}
